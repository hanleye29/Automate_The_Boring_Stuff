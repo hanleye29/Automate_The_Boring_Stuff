{
 "cells": [
  {
   "cell_type": "markdown",
   "id": "b0bdf299",
   "metadata": {},
   "source": [
    "# Strong Password Detection\n",
    "Page 186 - Create a function that uses Regex to determine if a password is strong. Requirements - at least 8 characters, at least one lower case character, at least one upper case character, and at least one digit."
   ]
  },
  {
   "cell_type": "code",
   "execution_count": 1,
   "id": "89d4b0c2",
   "metadata": {},
   "outputs": [],
   "source": [
    "import re"
   ]
  },
  {
   "cell_type": "code",
   "execution_count": 50,
   "id": "f022c4f2",
   "metadata": {},
   "outputs": [],
   "source": [
    "def passWordValidation(password):\n",
    "    valid = True\n",
    "    \n",
    "    passLowerRegex = re.compile(r'[a-z]')\n",
    "    passUpperRegex = re.compile(r'[A-Z]')\n",
    "    passNumRegex = re.compile(r'\\d')\n",
    "    passOtherRegex = re.compile(r'\\W|_')\n",
    "    \n",
    "    mo1 = passLowerRegex.findall(password)\n",
    "    mo2 = passUpperRegex.findall(password)\n",
    "    mo3 = passNumRegex.findall(password)\n",
    "    mo4 = passOtherRegex.findall(password)\n",
    "    \n",
    "    if len(mo4) > 0 or len(mo1) < 1 or len(mo2) < 1 or len(mo3) < 1 or len(mo1) + len(mo2) + len(mo3) < 8:\n",
    "        valid = False\n",
    "    \n",
    "    return valid\n"
   ]
  },
  {
   "cell_type": "code",
   "execution_count": 51,
   "id": "3e8c328e",
   "metadata": {},
   "outputs": [],
   "source": [
    "code1 = 'failure'\n",
    "code2 = 'FAILURE'\n",
    "code3 = '$FailURessss2'\n",
    "code4 = 'SucCesSfUl9'"
   ]
  },
  {
   "cell_type": "code",
   "execution_count": 52,
   "id": "db985fe6",
   "metadata": {},
   "outputs": [
    {
     "data": {
      "text/plain": [
       "False"
      ]
     },
     "execution_count": 52,
     "metadata": {},
     "output_type": "execute_result"
    }
   ],
   "source": [
    "passWordValidation(code1)"
   ]
  },
  {
   "cell_type": "code",
   "execution_count": 54,
   "id": "e4f366c0",
   "metadata": {},
   "outputs": [
    {
     "data": {
      "text/plain": [
       "False"
      ]
     },
     "execution_count": 54,
     "metadata": {},
     "output_type": "execute_result"
    }
   ],
   "source": [
    "passWordValidation(code2)"
   ]
  },
  {
   "cell_type": "code",
   "execution_count": 55,
   "id": "97e5e1f1",
   "metadata": {},
   "outputs": [
    {
     "data": {
      "text/plain": [
       "False"
      ]
     },
     "execution_count": 55,
     "metadata": {},
     "output_type": "execute_result"
    }
   ],
   "source": [
    "passWordValidation(code3)"
   ]
  },
  {
   "cell_type": "code",
   "execution_count": 53,
   "id": "b3aaab7d",
   "metadata": {},
   "outputs": [
    {
     "data": {
      "text/plain": [
       "True"
      ]
     },
     "execution_count": 53,
     "metadata": {},
     "output_type": "execute_result"
    }
   ],
   "source": [
    "passWordValidation(code4)"
   ]
  }
 ],
 "metadata": {
  "kernelspec": {
   "display_name": "Python 3",
   "language": "python",
   "name": "python3"
  },
  "language_info": {
   "codemirror_mode": {
    "name": "ipython",
    "version": 3
   },
   "file_extension": ".py",
   "mimetype": "text/x-python",
   "name": "python",
   "nbconvert_exporter": "python",
   "pygments_lexer": "ipython3",
   "version": "3.8.8"
  }
 },
 "nbformat": 4,
 "nbformat_minor": 5
}
