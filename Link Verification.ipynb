{
 "cells": [
  {
   "cell_type": "code",
   "execution_count": 9,
   "id": "5e4dce63",
   "metadata": {},
   "outputs": [],
   "source": [
    "import os, webbrowser, requests, bs4, regex as re\n",
    "import ipywidgets as widget"
   ]
  },
  {
   "cell_type": "code",
   "execution_count": 24,
   "id": "7f74763a",
   "metadata": {
    "hide_input": true,
    "scrolled": false
   },
   "outputs": [
    {
     "name": "stdout",
     "output_type": "stream",
     "text": [
      "Provide full URL below:\n"
     ]
    },
    {
     "data": {
      "application/vnd.jupyter.widget-view+json": {
       "model_id": "f960ecc8c02c460c93291d053fb8ec3c",
       "version_major": 2,
       "version_minor": 0
      },
      "text/plain": [
       "Text(value='', description='URL:')"
      ]
     },
     "metadata": {},
     "output_type": "display_data"
    }
   ],
   "source": [
    "print('Provide full URL below:')\n",
    "page = widget.Text(description = 'URL:',\n",
    "           disabled = False)\n",
    "display(page)"
   ]
  },
  {
   "cell_type": "code",
   "execution_count": 28,
   "id": "d2c4c5ea",
   "metadata": {},
   "outputs": [
    {
     "data": {
      "text/plain": [
       "[]"
      ]
     },
     "execution_count": 28,
     "metadata": {},
     "output_type": "execute_result"
    }
   ],
   "source": [
    "urlRegex = re.compile(r'https://.*\\.\\w\\w\\w')\n",
    "url = urlRegex.search(page.value).group()\n",
    "\n",
    "res = requests.get(url)\n",
    "soup = bs4.BeautifulSoup(res.text,'html.parser')\n",
    "\n",
    "linkElems = soup.select('src')\n",
    "linkElems"
   ]
  },
  {
   "cell_type": "code",
   "execution_count": null,
   "id": "3700f7fa",
   "metadata": {},
   "outputs": [],
   "source": []
  }
 ],
 "metadata": {
  "kernelspec": {
   "display_name": "Python 3",
   "language": "python",
   "name": "python3"
  },
  "language_info": {
   "codemirror_mode": {
    "name": "ipython",
    "version": 3
   },
   "file_extension": ".py",
   "mimetype": "text/x-python",
   "name": "python",
   "nbconvert_exporter": "python",
   "pygments_lexer": "ipython3",
   "version": "3.8.8"
  }
 },
 "nbformat": 4,
 "nbformat_minor": 5
}
