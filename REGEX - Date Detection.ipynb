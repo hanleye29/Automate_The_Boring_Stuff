{
 "cells": [
  {
   "cell_type": "markdown",
   "id": "13f4b057",
   "metadata": {},
   "source": [
    "# Date Detection\n",
    "Page 186 - Create a Regex that only detects valid DD/MM/YYYY - clean up afterwards to make sure dates are valid according to the month and leap year."
   ]
  },
  {
   "cell_type": "code",
   "execution_count": 22,
   "id": "1d2ea1f7",
   "metadata": {},
   "outputs": [],
   "source": [
    "import re"
   ]
  },
  {
   "cell_type": "code",
   "execution_count": 23,
   "id": "9d5c14a4",
   "metadata": {},
   "outputs": [],
   "source": [
    "dateRegex = re.compile(r'([0-2]\\d|3[0-1])/(0\\d|1[0-2])/([1-2]\\d\\d\\d)') #DD/MM/YYYY"
   ]
  },
  {
   "cell_type": "code",
   "execution_count": 24,
   "id": "a44f7a22",
   "metadata": {},
   "outputs": [],
   "source": [
    "dates = \"12/05/2021, 31/04/2020, 29/02/2020\"\n",
    "mo1 = dateRegex.findall(dates)\n",
    "\n",
    "bad_dates = []\n",
    "good_dates = []\n",
    "\n",
    "for i in range(len(mo1)):\n",
    "    month = mo1[i][1]\n",
    "    day = mo1[i][0]\n",
    "    year = mo1[i][2]\n",
    "    \n",
    "    if month in ['04', '06', '09', '11'] and day == '31':\n",
    "        bad_dates.append(day + '/' + month + '/' + year)\n",
    "    elif month == '02' and day == '30' or day == '31':\n",
    "        bad_dates.append(day + '/' + month + '/' + year)\n",
    "    elif month == '02' and int(year)%4 > 0:\n",
    "        bad_dates.append(day + '/' + month + '/' + year)\n",
    "    elif month == '02' and int(year)%100 == 0 and int(year)%400 != 0:\n",
    "        bad_dates.append(day + '/' + month + '/' + year)\n",
    "    else:\n",
    "        good_dates.append(day + '/' + month + '/' + year)\n",
    "                \n",
    "            "
   ]
  },
  {
   "cell_type": "code",
   "execution_count": 25,
   "id": "8c559ccd",
   "metadata": {},
   "outputs": [
    {
     "name": "stdout",
     "output_type": "stream",
     "text": [
      "You passed me the following impossible dates: \n",
      "['31/04/2020']\n"
     ]
    }
   ],
   "source": [
    "print('You passed me the following impossible dates: ')\n",
    "print(bad_dates)"
   ]
  },
  {
   "cell_type": "code",
   "execution_count": 26,
   "id": "651d403b",
   "metadata": {},
   "outputs": [
    {
     "name": "stdout",
     "output_type": "stream",
     "text": [
      "You passed me the following good dates: \n",
      "['12/05/2021', '29/02/2020']\n"
     ]
    }
   ],
   "source": [
    "print('You passed me the following good dates: ')\n",
    "print(good_dates)"
   ]
  },
  {
   "cell_type": "code",
   "execution_count": null,
   "id": "7e65ba62",
   "metadata": {},
   "outputs": [],
   "source": []
  }
 ],
 "metadata": {
  "kernelspec": {
   "display_name": "Python 3",
   "language": "python",
   "name": "python3"
  },
  "language_info": {
   "codemirror_mode": {
    "name": "ipython",
    "version": 3
   },
   "file_extension": ".py",
   "mimetype": "text/x-python",
   "name": "python",
   "nbconvert_exporter": "python",
   "pygments_lexer": "ipython3",
   "version": "3.8.8"
  }
 },
 "nbformat": 4,
 "nbformat_minor": 5
}
