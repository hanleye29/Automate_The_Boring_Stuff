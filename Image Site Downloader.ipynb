{
 "cells": [
  {
   "cell_type": "markdown",
   "id": "89e54b81",
   "metadata": {},
   "source": [
    "# Image Site Downloader\n",
    "Page. 298\n",
    "\"Write a program that goes to a photo-sharing site like Flickr or Imgur, searches for a category of photos, and then downloads all the resulting images.\""
   ]
  },
  {
   "cell_type": "code",
   "execution_count": 1,
   "id": "39c38559",
   "metadata": {},
   "outputs": [],
   "source": [
    "import requests, sys, webbrowser, bs4\n",
    "import ipywidgets as widget"
   ]
  },
  {
   "cell_type": "code",
   "execution_count": 2,
   "id": "05559582",
   "metadata": {
    "hide_input": true,
    "scrolled": false
   },
   "outputs": [
    {
     "name": "stdout",
     "output_type": "stream",
     "text": [
      "Enter search term below:\n"
     ]
    },
    {
     "data": {
      "application/vnd.jupyter.widget-view+json": {
       "model_id": "dd1d5a89026f42a1a54dc40d3fff138b",
       "version_major": 2,
       "version_minor": 0
      },
      "text/plain": [
       "Text(value='', description='Search Term:')"
      ]
     },
     "metadata": {},
     "output_type": "display_data"
    }
   ],
   "source": [
    "print('Enter search term below:')\n",
    "searchTerm = widget.Text(description = 'Search Term:',\n",
    "           disabled = False)\n",
    "display(searchTerm)"
   ]
  },
  {
   "cell_type": "code",
   "execution_count": 3,
   "id": "57762a4d",
   "metadata": {},
   "outputs": [
    {
     "name": "stdout",
     "output_type": "stream",
     "text": [
      "Searching...\n",
      "Done!\n"
     ]
    }
   ],
   "source": [
    "import requests, sys, webbrowser, bs4, os\n",
    "\n",
    "os.makedirs(searchTerm.value + ,exist_ok=True)\n",
    "\n",
    "url = 'https://www.flickr.com/search/?text='\n",
    "searchPhraseList = str(searchTerm.value).split()\n",
    "\n",
    "for i in range(len(searchPhraseList)):\n",
    "    if i == 0:\n",
    "        url = url+searchPhraseList[i]\n",
    "    else:\n",
    "        url = url + '%20' + searchPhraseList[i]\n",
    "\n",
    "res = requests.get(url)\n",
    "res.raise_for_status()\n",
    "\n",
    "soup = bs4.BeautifulSoup(res.text,'html.parser')\n",
    "linkElems = soup.select('body div[class=\"view photo-list-photo-view requiredToShowOnServer awake\"]')\n",
    "print('Searching...')\n",
    "for i in range(len(linkElems)):\n",
    "    style = linkElems[i].get('style')\n",
    "    url = style.partition('url')[-1]\n",
    "    url = url.replace('(', \"\")\n",
    "    url = url.replace(')', \"\")\n",
    "    url = 'https:' + url\n",
    "    res1 = requests.get(url)\n",
    "    \n",
    "    imageFile = open(os.path.join(searchTerm.value, os.path.basename(url)),'wb')\n",
    "    \n",
    "    for chunk in res1.iter_content(100000):\n",
    "        imageFile.write(chunk)\n",
    "    imageFile.close()\n",
    "print('Done!')"
   ]
  },
  {
   "cell_type": "code",
   "execution_count": null,
   "id": "06fd449f",
   "metadata": {},
   "outputs": [],
   "source": []
  }
 ],
 "metadata": {
  "kernelspec": {
   "display_name": "Python 3",
   "language": "python",
   "name": "python3"
  },
  "language_info": {
   "codemirror_mode": {
    "name": "ipython",
    "version": 3
   },
   "file_extension": ".py",
   "mimetype": "text/x-python",
   "name": "python",
   "nbconvert_exporter": "python",
   "pygments_lexer": "ipython3",
   "version": "3.8.8"
  }
 },
 "nbformat": 4,
 "nbformat_minor": 5
}
